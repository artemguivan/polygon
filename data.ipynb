{
 "cells": [
  {
   "cell_type": "code",
   "execution_count": 19,
   "metadata": {},
   "outputs": [
    {
     "name": "stdout",
     "output_type": "stream",
     "text": [
      "[1 1 3 3 3 3]\n",
      "[1 1]\n",
      "Mistake! No even elems!!!!!!\n"
     ]
    }
   ],
   "source": [
    "import numpy as np\n",
    "\n",
    "def find_even_count_numbers(arr):\n",
    "    # массив > numpy-массив\n",
    "    arr = np.array(arr)\n",
    "    \n",
    "    # Получаем уникальные элементы и их количество\n",
    "    unique, counts = np.unique(arr, return_counts=True)\n",
    "    # чекаем, что у нас не все элементы уникальные\n",
    "    if unique.shape == arr.shape:\n",
    "        return \"Mistake! No even elems!!!!!!\"\n",
    "    \n",
    "    # получаем индексы, где количество элементов четное\n",
    "    even_count_mask = counts % 2 == 0\n",
    "    \n",
    "    # с помощью маски получаем только нужные нам четные элементы и их колиества\n",
    "    even_count_elements = unique[even_count_mask]\n",
    "    even_count_repeats = counts[even_count_mask]\n",
    "    \n",
    "    # Для каждого элемента с четным количеством повторяем его соответствующее количество раз\n",
    "    result = np.concatenate([np.full(n, el) for el, n in zip(even_count_elements, even_count_repeats)])\n",
    "    \n",
    "    return result\n",
    "\n",
    "# Пример\n",
    "arr1 = [1, 1, 2, 3, 3, 3, 3]\n",
    "arr2 = [1, 1, 2, 3, 3, 3]\n",
    "arr3 = [1, 2, 3]\n",
    "\n",
    "if __name__ == \"__main__\":\n",
    "    print(find_even_count_numbers(arr1))\n",
    "    print(find_even_count_numbers(arr2))  \n",
    "    print(find_even_count_numbers(arr3))  \n",
    "\n"
   ]
  },
  {
   "cell_type": "code",
   "execution_count": null,
   "metadata": {},
   "outputs": [],
   "source": []
  }
 ],
 "metadata": {
  "kernelspec": {
   "display_name": "base",
   "language": "python",
   "name": "python3"
  },
  "language_info": {
   "codemirror_mode": {
    "name": "ipython",
    "version": 3
   },
   "file_extension": ".py",
   "mimetype": "text/x-python",
   "name": "python",
   "nbconvert_exporter": "python",
   "pygments_lexer": "ipython3",
   "version": "3.9.13"
  }
 },
 "nbformat": 4,
 "nbformat_minor": 2
}
